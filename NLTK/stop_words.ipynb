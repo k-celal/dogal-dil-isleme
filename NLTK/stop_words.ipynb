{
 "cells": [
  {
   "cell_type": "markdown",
   "metadata": {},
   "source": [
    "#### NLP İÇİN ÖNİŞLEME İHTİYAC VARDIR BUNLARDAN BİRİ STOP WORD"
   ]
  },
  {
   "cell_type": "code",
   "execution_count": 3,
   "metadata": {},
   "outputs": [],
   "source": [
    "from nltk.corpus import stopwords\n",
    "from nltk.tokenize import word_tokenize"
   ]
  },
  {
   "cell_type": "code",
   "execution_count": 4,
   "metadata": {},
   "outputs": [],
   "source": [
    "text=\"Fazıl Say was born in 1970. His father, Ahmet Say was an author and musicologist. His mother, Gürgün Say was a pharmacist. His grandfather Fazıl Say, whose name he shares, was a member of the Spartakusbund.[1] Say was a child prodigy, who was able to do basic arithmetic with 4-digit numbers at the age of two. His father, having found out that he was playing the melody of (Turkish version of Ah! vous dirai-je, maman) on a makeshift flute with no prior training, enlisted the help of Ali Kemal Kaya, an oboist and family friend. At the age of three, Say started his piano lessons under the tutelage of pianist Mithat Fenmen.\""
   ]
  },
  {
   "cell_type": "code",
   "execution_count": 9,
   "metadata": {},
   "outputs": [],
   "source": [
    "stopwords= stopwords.words('english')"
   ]
  },
  {
   "cell_type": "code",
   "execution_count": 10,
   "metadata": {},
   "outputs": [],
   "source": [
    "words=word_tokenize(text)"
   ]
  },
  {
   "cell_type": "code",
   "execution_count": 11,
   "metadata": {},
   "outputs": [],
   "source": [
    "filtered_words=[]\n",
    "for word in words:\n",
    "    if word not in stopwords:\n",
    "        filtered_words.append(word)"
   ]
  },
  {
   "cell_type": "code",
   "execution_count": 12,
   "metadata": {},
   "outputs": [
    {
     "data": {
      "text/plain": [
       "['Fazıl',\n",
       " 'Say',\n",
       " 'born',\n",
       " '1970',\n",
       " '.',\n",
       " 'His',\n",
       " 'father',\n",
       " ',',\n",
       " 'Ahmet',\n",
       " 'Say',\n",
       " 'author',\n",
       " 'musicologist',\n",
       " '.',\n",
       " 'His',\n",
       " 'mother',\n",
       " ',',\n",
       " 'Gürgün',\n",
       " 'Say',\n",
       " 'pharmacist',\n",
       " '.',\n",
       " 'His',\n",
       " 'grandfather',\n",
       " 'Fazıl',\n",
       " 'Say',\n",
       " ',',\n",
       " 'whose',\n",
       " 'name',\n",
       " 'shares',\n",
       " ',',\n",
       " 'member',\n",
       " 'Spartakusbund',\n",
       " '.',\n",
       " '[',\n",
       " '1',\n",
       " ']',\n",
       " 'Say',\n",
       " 'child',\n",
       " 'prodigy',\n",
       " ',',\n",
       " 'able',\n",
       " 'basic',\n",
       " 'arithmetic',\n",
       " '4-digit',\n",
       " 'numbers',\n",
       " 'age',\n",
       " 'two',\n",
       " '.',\n",
       " 'His',\n",
       " 'father',\n",
       " ',',\n",
       " 'found',\n",
       " 'playing',\n",
       " 'melody',\n",
       " '(',\n",
       " 'Turkish',\n",
       " 'version',\n",
       " 'Ah',\n",
       " '!',\n",
       " 'vous',\n",
       " 'dirai-je',\n",
       " ',',\n",
       " 'maman',\n",
       " ')',\n",
       " 'makeshift',\n",
       " 'flute',\n",
       " 'prior',\n",
       " 'training',\n",
       " ',',\n",
       " 'enlisted',\n",
       " 'help',\n",
       " 'Ali',\n",
       " 'Kemal',\n",
       " 'Kaya',\n",
       " ',',\n",
       " 'oboist',\n",
       " 'family',\n",
       " 'friend',\n",
       " '.',\n",
       " 'At',\n",
       " 'age',\n",
       " 'three',\n",
       " ',',\n",
       " 'Say',\n",
       " 'started',\n",
       " 'piano',\n",
       " 'lessons',\n",
       " 'tutelage',\n",
       " 'pianist',\n",
       " 'Mithat',\n",
       " 'Fenmen',\n",
       " '.']"
      ]
     },
     "execution_count": 12,
     "metadata": {},
     "output_type": "execute_result"
    }
   ],
   "source": [
    "filtered_words"
   ]
  },
  {
   "cell_type": "code",
   "execution_count": null,
   "metadata": {},
   "outputs": [],
   "source": []
  }
 ],
 "metadata": {
  "kernelspec": {
   "display_name": "base",
   "language": "python",
   "name": "python3"
  },
  "language_info": {
   "codemirror_mode": {
    "name": "ipython",
    "version": 3
   },
   "file_extension": ".py",
   "mimetype": "text/x-python",
   "name": "python",
   "nbconvert_exporter": "python",
   "pygments_lexer": "ipython3",
   "version": "3.9.17"
  }
 },
 "nbformat": 4,
 "nbformat_minor": 2
}
