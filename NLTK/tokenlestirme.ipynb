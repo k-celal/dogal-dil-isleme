{
 "cells": [
  {
   "cell_type": "markdown",
   "metadata": {},
   "source": [
    "## NLTK GIRIS"
   ]
  },
  {
   "cell_type": "code",
   "execution_count": 4,
   "id": "cb32cd9e",
   "metadata": {},
   "outputs": [],
   "source": [
    "from nltk.tokenize import sent_tokenize, word_tokenize"
   ]
  },
  {
   "cell_type": "code",
   "execution_count": 1,
   "metadata": {},
   "outputs": [],
   "source": [
    "text=\"Alan Mathison Turing, İngiliz matematikçi, bilgisayar bilimcisi ve kriptolog. Bilgisayar biliminin kurucusu sayılır. Geliştirmiş olduğu Turing testi ile makinelerin ve bilgisayarların düşünme yetisine sahip olup olamayacakları konusunda bir kriter öne sürmüştür.\""
   ]
  },
  {
   "cell_type": "code",
   "execution_count": 2,
   "metadata": {},
   "outputs": [
    {
     "data": {
      "text/plain": [
       "['Alan',\n",
       " 'Mathison',\n",
       " 'Turing,',\n",
       " 'İngiliz',\n",
       " 'matematikçi,',\n",
       " 'bilgisayar',\n",
       " 'bilimcisi',\n",
       " 've',\n",
       " 'kriptolog.',\n",
       " 'Bilgisayar',\n",
       " 'biliminin',\n",
       " 'kurucusu',\n",
       " 'sayılır.',\n",
       " 'Geliştirmiş',\n",
       " 'olduğu',\n",
       " 'Turing',\n",
       " 'testi',\n",
       " 'ile',\n",
       " 'makinelerin',\n",
       " 've',\n",
       " 'bilgisayarların',\n",
       " 'düşünme',\n",
       " 'yetisine',\n",
       " 'sahip',\n",
       " 'olup',\n",
       " 'olamayacakları',\n",
       " 'konusunda',\n",
       " 'bir',\n",
       " 'kriter',\n",
       " 'öne',\n",
       " 'sürmüştür.']"
      ]
     },
     "execution_count": 2,
     "metadata": {},
     "output_type": "execute_result"
    }
   ],
   "source": [
    "text.split()"
   ]
  },
  {
   "cell_type": "markdown",
   "metadata": {},
   "source": [
    "Yukarıdaki örnek pek sağlıklı değildir çünkü bazı kelimelerin sonunda . , gibi noktalamaişaretleri vardır ve makine bunları farklı kelime olarak algılayacaktır."
   ]
  },
  {
   "cell_type": "code",
   "execution_count": 5,
   "metadata": {},
   "outputs": [
    {
     "data": {
      "text/plain": [
       "['Alan',\n",
       " 'Mathison',\n",
       " 'Turing',\n",
       " ',',\n",
       " 'İngiliz',\n",
       " 'matematikçi',\n",
       " ',',\n",
       " 'bilgisayar',\n",
       " 'bilimcisi',\n",
       " 've',\n",
       " 'kriptolog',\n",
       " '.',\n",
       " 'Bilgisayar',\n",
       " 'biliminin',\n",
       " 'kurucusu',\n",
       " 'sayılır',\n",
       " '.',\n",
       " 'Geliştirmiş',\n",
       " 'olduğu',\n",
       " 'Turing',\n",
       " 'testi',\n",
       " 'ile',\n",
       " 'makinelerin',\n",
       " 've',\n",
       " 'bilgisayarların',\n",
       " 'düşünme',\n",
       " 'yetisine',\n",
       " 'sahip',\n",
       " 'olup',\n",
       " 'olamayacakları',\n",
       " 'konusunda',\n",
       " 'bir',\n",
       " 'kriter',\n",
       " 'öne',\n",
       " 'sürmüştür',\n",
       " '.']"
      ]
     },
     "execution_count": 5,
     "metadata": {},
     "output_type": "execute_result"
    }
   ],
   "source": [
    "word_tokenize(text)"
   ]
  },
  {
   "cell_type": "code",
   "execution_count": 7,
   "metadata": {},
   "outputs": [
    {
     "data": {
      "text/plain": [
       "['Alan Mathison Turing, İngiliz matematikçi, bilgisayar bilimcisi ve kriptolog.',\n",
       " 'Bilgisayar biliminin kurucusu sayılır.',\n",
       " 'Geliştirmiş olduğu Turing testi ile makinelerin ve bilgisayarların düşünme yetisine sahip olup olamayacakları konusunda bir kriter öne sürmüştür.']"
      ]
     },
     "execution_count": 7,
     "metadata": {},
     "output_type": "execute_result"
    }
   ],
   "source": [
    "sent_tokenize(text)"
   ]
  },
  {
   "cell_type": "code",
   "execution_count": 9,
   "metadata": {},
   "outputs": [
    {
     "name": "stdout",
     "output_type": "stream",
     "text": [
      "Alan\n",
      "Mathison\n",
      "Turing\n",
      ",\n",
      "İngiliz\n",
      "matematikçi\n",
      ",\n",
      "bilgisayar\n",
      "bilimcisi\n",
      "ve\n",
      "kriptolog\n",
      ".\n",
      "Bilgisayar\n",
      "biliminin\n",
      "kurucusu\n",
      "sayılır\n",
      ".\n",
      "Geliştirmiş\n",
      "olduğu\n",
      "Turing\n",
      "testi\n",
      "ile\n",
      "makinelerin\n",
      "ve\n",
      "bilgisayarların\n",
      "düşünme\n",
      "yetisine\n",
      "sahip\n",
      "olup\n",
      "olamayacakları\n",
      "konusunda\n",
      "bir\n",
      "kriter\n",
      "öne\n",
      "sürmüştür\n",
      ".\n"
     ]
    }
   ],
   "source": [
    "for token in word_tokenize(text):\n",
    "    print(token)"
   ]
  },
  {
   "cell_type": "markdown",
   "metadata": {},
   "source": [
    "### Tokenleştirme konusu NLP için çok önemli bir konudur"
   ]
  },
  {
   "cell_type": "code",
   "execution_count": null,
   "metadata": {},
   "outputs": [],
   "source": []
  }
 ],
 "metadata": {
  "kernelspec": {
   "display_name": "Python 3 (ipykernel)",
   "language": "python",
   "name": "python3"
  },
  "language_info": {
   "codemirror_mode": {
    "name": "ipython",
    "version": 3
   },
   "file_extension": ".py",
   "mimetype": "text/x-python",
   "name": "python",
   "nbconvert_exporter": "python",
   "pygments_lexer": "ipython3",
   "version": "3.9.17"
  }
 },
 "nbformat": 4,
 "nbformat_minor": 5
}
