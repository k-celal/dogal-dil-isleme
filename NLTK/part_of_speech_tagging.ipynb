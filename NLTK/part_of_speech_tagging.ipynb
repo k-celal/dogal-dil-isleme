{
 "cells": [
  {
   "cell_type": "markdown",
   "metadata": {},
   "source": [
    "Cümlenin ögelerini bulma konusu"
   ]
  },
  {
   "cell_type": "code",
   "execution_count": 1,
   "metadata": {},
   "outputs": [],
   "source": [
    "import nltk"
   ]
  },
  {
   "cell_type": "code",
   "execution_count": 2,
   "metadata": {},
   "outputs": [],
   "source": [
    "text='Nikola Tesla ( Serbian Cyrillic: Никола Тесла,[2] [nǐkola têsla];[a] 10 July [O.S. 28 June] 1856  7 January 1943) was a Serbian-American[5][6] inventor, electrical engineer, mechanical engineer, and futurist. He is best-known for his contributions to the design of the modern alternating current (AC) electricity supply system. Born and raised in the Austrian Empire, Tesla first studied engineering and physics in the 1870s without receiving a degree. He then gaining practical experience in the early 1880s working in telephony and at Continental Edison in the new electric power industry.'"
   ]
  },
  {
   "cell_type": "code",
   "execution_count": 3,
   "metadata": {},
   "outputs": [],
   "source": [
    "tokenized=nltk.word_tokenize(text)"
   ]
  },
  {
   "cell_type": "code",
   "execution_count": 4,
   "metadata": {},
   "outputs": [
    {
     "data": {
      "text/plain": [
       "[('Nikola', 'NNP'),\n",
       " ('Tesla', 'NNP'),\n",
       " ('(', '('),\n",
       " ('Serbian', 'JJ'),\n",
       " ('Cyrillic', 'NNP'),\n",
       " (':', ':'),\n",
       " ('Никола', 'NN'),\n",
       " ('Тесла', 'NN'),\n",
       " (',', ','),\n",
       " ('[', 'VBZ'),\n",
       " ('2', 'CD'),\n",
       " (']', 'NN'),\n",
       " ('[', 'NNP'),\n",
       " ('nǐkola', 'CC'),\n",
       " ('têsla', 'JJ'),\n",
       " (']', 'NN'),\n",
       " (';', ':'),\n",
       " ('[', 'CC'),\n",
       " ('a', 'DT'),\n",
       " (']', 'JJ'),\n",
       " ('10', 'CD'),\n",
       " ('July', 'NNP'),\n",
       " ('[', 'NNP'),\n",
       " ('O.S', 'NNP'),\n",
       " ('.', '.'),\n",
       " ('28', 'CD'),\n",
       " ('June', 'NNP'),\n",
       " (']', 'NN'),\n",
       " ('1856', 'CD'),\n",
       " ('7', 'CD'),\n",
       " ('January', 'NNP'),\n",
       " ('1943', 'CD'),\n",
       " (')', ')'),\n",
       " ('was', 'VBD'),\n",
       " ('a', 'DT'),\n",
       " ('Serbian-American', 'JJ'),\n",
       " ('[', 'NN'),\n",
       " ('5', 'CD'),\n",
       " (']', 'NNP'),\n",
       " ('[', 'VBD'),\n",
       " ('6', 'CD'),\n",
       " (']', 'NNP'),\n",
       " ('inventor', 'NN'),\n",
       " (',', ','),\n",
       " ('electrical', 'JJ'),\n",
       " ('engineer', 'NN'),\n",
       " (',', ','),\n",
       " ('mechanical', 'JJ'),\n",
       " ('engineer', 'NN'),\n",
       " (',', ','),\n",
       " ('and', 'CC'),\n",
       " ('futurist', 'NN'),\n",
       " ('.', '.'),\n",
       " ('He', 'PRP'),\n",
       " ('is', 'VBZ'),\n",
       " ('best-known', 'JJ'),\n",
       " ('for', 'IN'),\n",
       " ('his', 'PRP$'),\n",
       " ('contributions', 'NNS'),\n",
       " ('to', 'TO'),\n",
       " ('the', 'DT'),\n",
       " ('design', 'NN'),\n",
       " ('of', 'IN'),\n",
       " ('the', 'DT'),\n",
       " ('modern', 'JJ'),\n",
       " ('alternating', 'VBG'),\n",
       " ('current', 'JJ'),\n",
       " ('(', '('),\n",
       " ('AC', 'NNP'),\n",
       " (')', ')'),\n",
       " ('electricity', 'NN'),\n",
       " ('supply', 'NN'),\n",
       " ('system', 'NN'),\n",
       " ('.', '.'),\n",
       " ('Born', 'NNP'),\n",
       " ('and', 'CC'),\n",
       " ('raised', 'VBN'),\n",
       " ('in', 'IN'),\n",
       " ('the', 'DT'),\n",
       " ('Austrian', 'JJ'),\n",
       " ('Empire', 'NNP'),\n",
       " (',', ','),\n",
       " ('Tesla', 'NNP'),\n",
       " ('first', 'RB'),\n",
       " ('studied', 'VBD'),\n",
       " ('engineering', 'NN'),\n",
       " ('and', 'CC'),\n",
       " ('physics', 'NNS'),\n",
       " ('in', 'IN'),\n",
       " ('the', 'DT'),\n",
       " ('1870s', 'CD'),\n",
       " ('without', 'IN'),\n",
       " ('receiving', 'VBG'),\n",
       " ('a', 'DT'),\n",
       " ('degree', 'NN'),\n",
       " ('.', '.'),\n",
       " ('He', 'PRP'),\n",
       " ('then', 'RB'),\n",
       " ('gaining', 'VBG'),\n",
       " ('practical', 'JJ'),\n",
       " ('experience', 'NN'),\n",
       " ('in', 'IN'),\n",
       " ('the', 'DT'),\n",
       " ('early', 'JJ'),\n",
       " ('1880s', 'CD'),\n",
       " ('working', 'VBG'),\n",
       " ('in', 'IN'),\n",
       " ('telephony', 'NN'),\n",
       " ('and', 'CC'),\n",
       " ('at', 'IN'),\n",
       " ('Continental', 'NNP'),\n",
       " ('Edison', 'NNP'),\n",
       " ('in', 'IN'),\n",
       " ('the', 'DT'),\n",
       " ('new', 'JJ'),\n",
       " ('electric', 'JJ'),\n",
       " ('power', 'NN'),\n",
       " ('industry', 'NN'),\n",
       " ('.', '.')]"
      ]
     },
     "execution_count": 4,
     "metadata": {},
     "output_type": "execute_result"
    }
   ],
   "source": [
    "nltk.pos_tag(tokenized)"
   ]
  },
  {
   "cell_type": "code",
   "execution_count": 5,
   "metadata": {},
   "outputs": [
    {
     "data": {
      "text/plain": [
       "'\\nCC     coordinating conjunction\\nCD     cardinal digit\\nDT     determiner\\nEX     existential there (like: \"there is\" ... think of it like \"there exists\")\\nFW     foreign word\\nIN     preposition/subordinating conjunction\\nJJ     adjective \\'big\\'\\nJJR    adjective, comparative \\'bigger\\'\\nJJS    adjective, superlative \\'biggest\\'\\nLS     list marker 1)\\nMD     modal could, will\\nNN     noun, singular \\'desk\\'\\nNNS    noun plural \\'desks\\'\\nNNP    proper noun, singular \\'Harrison\\'\\nNNPS   proper noun, plural \\'Americans\\'\\nPDT    predeterminer \\'all the kids\\'\\nPOS    possessive ending parent\\'s\\nPRP    personal pronoun I, he, she\\nPRP$   possessive pronoun my, his, hers\\nRB     adverb very, silently,\\nRBR    adverb, comparative better\\nRBS    adverb, superlative best\\nRP     particle give up\\nTO     to go \\'to\\' the store.\\nUH     interjection errrrrrrrm\\nVB     verb, base form take\\nVBD    verb, past tense took\\nVBG    verb, gerund/present participle taking\\nVBN    verb, past participle taken\\nVBP    verb, sing. present, non-3d take\\nVBZ    verb, 3rd person sing. present takes\\nWDT    wh-determiner which\\nWP     wh-pronoun who, what\\nWP$    possessive wh-pronoun whose\\nWRB    wh-abverb where, when\\n'"
      ]
     },
     "execution_count": 5,
     "metadata": {},
     "output_type": "execute_result"
    }
   ],
   "source": [
    "\"\"\"\n",
    "CC     coordinating conjunction\n",
    "CD     cardinal digit\n",
    "DT     determiner\n",
    "EX     existential there (like: \"there is\" ... think of it like \"there exists\")\n",
    "FW     foreign word\n",
    "IN     preposition/subordinating conjunction\n",
    "JJ     adjective 'big'\n",
    "JJR    adjective, comparative 'bigger'\n",
    "JJS    adjective, superlative 'biggest'\n",
    "LS     list marker 1)\n",
    "MD     modal could, will\n",
    "NN     noun, singular 'desk'\n",
    "NNS    noun plural 'desks'\n",
    "NNP    proper noun, singular 'Harrison'\n",
    "NNPS   proper noun, plural 'Americans'\n",
    "PDT    predeterminer 'all the kids'\n",
    "POS    possessive ending parent's\n",
    "PRP    personal pronoun I, he, she\n",
    "PRP$   possessive pronoun my, his, hers\n",
    "RB     adverb very, silently,\n",
    "RBR    adverb, comparative better\n",
    "RBS    adverb, superlative best\n",
    "RP     particle give up\n",
    "TO     to go 'to' the store.\n",
    "UH     interjection errrrrrrrm\n",
    "VB     verb, base form take\n",
    "VBD    verb, past tense took\n",
    "VBG    verb, gerund/present participle taking\n",
    "VBN    verb, past participle taken\n",
    "VBP    verb, sing. present, non-3d take\n",
    "VBZ    verb, 3rd person sing. present takes\n",
    "WDT    wh-determiner which\n",
    "WP     wh-pronoun who, what\n",
    "WP$    possessive wh-pronoun whose\n",
    "WRB    wh-abverb where, when\n",
    "\"\"\""
   ]
  },
  {
   "cell_type": "code",
   "execution_count": null,
   "metadata": {},
   "outputs": [],
   "source": []
  }
 ],
 "metadata": {
  "kernelspec": {
   "display_name": "base",
   "language": "python",
   "name": "python3"
  },
  "language_info": {
   "codemirror_mode": {
    "name": "ipython",
    "version": 3
   },
   "file_extension": ".py",
   "mimetype": "text/x-python",
   "name": "python",
   "nbconvert_exporter": "python",
   "pygments_lexer": "ipython3",
   "version": "3.9.17"
  }
 },
 "nbformat": 4,
 "nbformat_minor": 2
}
